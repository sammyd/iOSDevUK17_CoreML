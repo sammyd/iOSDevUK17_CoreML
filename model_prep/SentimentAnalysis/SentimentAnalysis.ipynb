{
 "cells": [
  {
   "cell_type": "code",
   "execution_count": 1,
   "metadata": {
    "collapsed": true
   },
   "outputs": [],
   "source": [
    "import sys\n",
    "import os\n",
    "from sklearn.feature_extraction.text import TfidfVectorizer\n",
    "from sklearn import svm\n",
    "from sklearn.metrics import classification_report\n",
    "import coremltools\n",
    "import numpy as np\n",
    "import json"
   ]
  },
  {
   "cell_type": "code",
   "execution_count": 2,
   "metadata": {
    "collapsed": true
   },
   "outputs": [],
   "source": [
    "classes = ['pos', 'neg']\n",
    "training_data = []\n",
    "training_labels = []\n",
    "testing_data = []\n",
    "testing_labels = []"
   ]
  },
  {
   "cell_type": "code",
   "execution_count": 3,
   "metadata": {},
   "outputs": [],
   "source": [
    "for c in classes:\n",
    "    dirname = os.path.join('review_polarity', 'txt_sentoken', c)\n",
    "    for fname in os.listdir(dirname):\n",
    "        with open(os.path.join(dirname, fname), 'r') as f:\n",
    "            content = f.read()\n",
    "            if fname.startswith('cv4'):\n",
    "                testing_data.append(content)\n",
    "                testing_labels.append(c)\n",
    "            else:\n",
    "                training_data.append(content)\n",
    "                training_labels.append(c)"
   ]
  },
  {
   "cell_type": "code",
   "execution_count": 4,
   "metadata": {
    "collapsed": true
   },
   "outputs": [],
   "source": [
    "v = TfidfVectorizer(min_df = 5,\n",
    "                             max_df = 0.8,\n",
    "                             sublinear_tf = True,\n",
    "                             use_idf = True\n",
    "                            )\n",
    "training_feature_vectors = v.fit_transform(training_data)\n",
    "testing_feature_vectors = v.transform(testing_data)"
   ]
  },
  {
   "cell_type": "code",
   "execution_count": 20,
   "metadata": {},
   "outputs": [
    {
     "name": "stdout",
     "output_type": "stream",
     "text": [
      "             precision    recall  f1-score   support\n",
      "\n",
      "        neg       0.89      0.86      0.87       100\n",
      "        pos       0.86      0.89      0.88       100\n",
      "\n",
      "avg / total       0.88      0.88      0.87       200\n",
      "\n"
     ]
    }
   ],
   "source": [
    "classifier = svm.LinearSVC()\n",
    "classifier.fit(training_feature_vectors, training_labels)\n",
    "prediction = classifier.predict(testing_feature_vectors)\n",
    "print(classification_report(testing_labels, prediction))"
   ]
  },
  {
   "cell_type": "code",
   "execution_count": 21,
   "metadata": {},
   "outputs": [],
   "source": [
    "coreml_model = coremltools.converters.sklearn.convert(classifier)\n",
    "coreml_model.author = \"Sam Davies\"\n",
    "coreml_model.license = \"MIT\"\n",
    "coreml_model.short_description = \"SVM for sentiment analysis of movie reviews.\"\n",
    "coreml_model.save('MovieReviewSentiment')"
   ]
  },
  {
   "cell_type": "code",
   "execution_count": 22,
   "metadata": {},
   "outputs": [
    {
     "name": "stdout",
     "output_type": "stream",
     "text": [
      "  (0, 12378)\t0.518288536482\n",
      "  (0, 11890)\t0.376546750519\n",
      "  (0, 10092)\t0.53459075347\n",
      "  (0, 9776)\t0.354964292634\n",
      "  (0, 7290)\t0.206622202884\n",
      "  (0, 3873)\t0.367572958962\n"
     ]
    }
   ],
   "source": [
    "test = v.transform([\"the single worst movie i've ever seen\"])\n",
    "print(test)"
   ]
  },
  {
   "cell_type": "code",
   "execution_count": 23,
   "metadata": {},
   "outputs": [
    {
     "data": {
      "text/plain": [
       "array(['neg'],\n",
       "      dtype='|S3')"
      ]
     },
     "execution_count": 23,
     "metadata": {},
     "output_type": "execute_result"
    }
   ],
   "source": [
    "classifier.predict(test)"
   ]
  },
  {
   "cell_type": "code",
   "execution_count": null,
   "metadata": {},
   "outputs": [],
   "source": [
    "t = [1, 1, 1, 2, 1]\n",
    "sublin = np.log(t) + 1\n",
    "sublin"
   ]
  },
  {
   "cell_type": "code",
   "execution_count": null,
   "metadata": {},
   "outputs": [],
   "source": [
    "tfidf = [v.idf_[11924], v.idf_[8959], v.idf_[5268], v.idf_[1127], v.idf_[884]] * sublin\n",
    "tfidf / np.sqrt(np.sum(np.power(tfidf, 2)))"
   ]
  },
  {
   "cell_type": "code",
   "execution_count": null,
   "metadata": {},
   "outputs": [],
   "source": [
    "feature_list = []\n",
    "vocab = v.vocabulary_\n",
    "for word in vocab:\n",
    "    feature_list.append({ 'word': word, 'index': vocab[word], 'idf': v.idf_[vocab[word]] })\n",
    "\n",
    "json.dumps(feature_list)"
   ]
  },
  {
   "cell_type": "code",
   "execution_count": null,
   "metadata": {
    "collapsed": true
   },
   "outputs": [],
   "source": [
    "with open(\"features.json\", \"w\") as f:\n",
    "    json.dump(feature_list, f, indent=2)"
   ]
  },
  {
   "cell_type": "code",
   "execution_count": null,
   "metadata": {
    "collapsed": true
   },
   "outputs": [],
   "source": []
  }
 ],
 "metadata": {
  "kernelspec": {
   "display_name": "Python 2",
   "language": "python",
   "name": "python2"
  },
  "language_info": {
   "codemirror_mode": {
    "name": "ipython",
    "version": 2
   },
   "file_extension": ".py",
   "mimetype": "text/x-python",
   "name": "python",
   "nbconvert_exporter": "python",
   "pygments_lexer": "ipython2",
   "version": "2.7.10"
  }
 },
 "nbformat": 4,
 "nbformat_minor": 2
}
